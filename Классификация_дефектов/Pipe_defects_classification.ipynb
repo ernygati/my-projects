{
 "cells": [
  {
   "cell_type": "markdown",
   "metadata": {},
   "source": [
    "# Project goal\n",
    "`We are given dataset which contains signals of special device called magnetic flaw detector, which scannes the oil pipes with magnetic field to reveal possible deffects. The task is to classifiy signals by 2 cattegories: outter deffect ('OD') and inner deffect ('ID')`. "
   ]
  },
  {
   "cell_type": "code",
   "execution_count": 1,
   "metadata": {},
   "outputs": [],
   "source": [
    "import pandas as pd\n",
    "import numpy as np\n",
    "import matplotlib.pyplot as plt\n",
    "from sklearn.preprocessing import LabelEncoder, StandardScaler\n",
    "from sklearn.model_selection import train_test_split\n",
    "import random\n",
    "from pathlib import Path\n",
    "%matplotlib inline\n",
    "plt.rcParams['font.size'] = 14"
   ]
  },
  {
   "cell_type": "code",
   "execution_count": 28,
   "metadata": {},
   "outputs": [],
   "source": [
    "data = pd.read_csv('data.csv')\n",
    "train =  pd.read_csv('target_train.csv')"
   ]
  },
  {
   "cell_type": "markdown",
   "metadata": {},
   "source": [
    "## Binarize data"
   ]
  },
  {
   "cell_type": "code",
   "execution_count": 3,
   "metadata": {},
   "outputs": [
    {
     "data": {
      "text/html": [
       "<div>\n",
       "<style scoped>\n",
       "    .dataframe tbody tr th:only-of-type {\n",
       "        vertical-align: middle;\n",
       "    }\n",
       "\n",
       "    .dataframe tbody tr th {\n",
       "        vertical-align: top;\n",
       "    }\n",
       "\n",
       "    .dataframe thead th {\n",
       "        text-align: right;\n",
       "    }\n",
       "</style>\n",
       "<table border=\"1\" class=\"dataframe\">\n",
       "  <thead>\n",
       "    <tr style=\"text-align: right;\">\n",
       "      <th></th>\n",
       "      <th>id</th>\n",
       "      <th>target</th>\n",
       "    </tr>\n",
       "  </thead>\n",
       "  <tbody>\n",
       "    <tr>\n",
       "      <th>0</th>\n",
       "      <td>111_1</td>\n",
       "      <td>1</td>\n",
       "    </tr>\n",
       "    <tr>\n",
       "      <th>1</th>\n",
       "      <td>103_1</td>\n",
       "      <td>1</td>\n",
       "    </tr>\n",
       "    <tr>\n",
       "      <th>2</th>\n",
       "      <td>34_2</td>\n",
       "      <td>0</td>\n",
       "    </tr>\n",
       "    <tr>\n",
       "      <th>3</th>\n",
       "      <td>78_1</td>\n",
       "      <td>1</td>\n",
       "    </tr>\n",
       "    <tr>\n",
       "      <th>4</th>\n",
       "      <td>71_2</td>\n",
       "      <td>1</td>\n",
       "    </tr>\n",
       "    <tr>\n",
       "      <th>...</th>\n",
       "      <td>...</td>\n",
       "      <td>...</td>\n",
       "    </tr>\n",
       "    <tr>\n",
       "      <th>95</th>\n",
       "      <td>136_1</td>\n",
       "      <td>1</td>\n",
       "    </tr>\n",
       "    <tr>\n",
       "      <th>96</th>\n",
       "      <td>183_1</td>\n",
       "      <td>0</td>\n",
       "    </tr>\n",
       "    <tr>\n",
       "      <th>97</th>\n",
       "      <td>26_2</td>\n",
       "      <td>1</td>\n",
       "    </tr>\n",
       "    <tr>\n",
       "      <th>98</th>\n",
       "      <td>6_2</td>\n",
       "      <td>1</td>\n",
       "    </tr>\n",
       "    <tr>\n",
       "      <th>99</th>\n",
       "      <td>163_1</td>\n",
       "      <td>0</td>\n",
       "    </tr>\n",
       "  </tbody>\n",
       "</table>\n",
       "<p>100 rows × 2 columns</p>\n",
       "</div>"
      ],
      "text/plain": [
       "       id  target\n",
       "0   111_1       1\n",
       "1   103_1       1\n",
       "2    34_2       0\n",
       "3    78_1       1\n",
       "4    71_2       1\n",
       "..    ...     ...\n",
       "95  136_1       1\n",
       "96  183_1       0\n",
       "97   26_2       1\n",
       "98    6_2       1\n",
       "99  163_1       0\n",
       "\n",
       "[100 rows x 2 columns]"
      ]
     },
     "execution_count": 3,
     "metadata": {},
     "output_type": "execute_result"
    }
   ],
   "source": [
    "#label binarization (OD = 1, ID = 0)\n",
    "defect_mapper = {0:'ID', 1:'OD'}\n",
    "train_enc = train.copy()\n",
    "enc = LabelEncoder()\n",
    "train_enc.target = enc.fit_transform(train_enc.target)\n",
    "train_enc"
   ]
  },
  {
   "cell_type": "markdown",
   "metadata": {},
   "source": [
    "## Normalization"
   ]
  },
  {
   "cell_type": "markdown",
   "metadata": {},
   "source": [
    "`applies (X-X_mean)/std(X) normalization`"
   ]
  },
  {
   "cell_type": "code",
   "execution_count": 4,
   "metadata": {},
   "outputs": [],
   "source": [
    "def normalilized_data(df):\n",
    "    data_normed = data.copy()\n",
    "    print('Normalizing data...')\n",
    "    for i in (data.id.unique()):\n",
    "        channels = data[data.id == i].iloc[:,3:]\n",
    "        normed_channels = (channels - channels.mean().values)/channels.std().values\n",
    "        data_normed.update(normed_channels)\n",
    "    return data_normed"
   ]
  },
  {
   "cell_type": "code",
   "execution_count": 5,
   "metadata": {},
   "outputs": [],
   "source": [
    "# create normalized dataset if it doesn't exist\n",
    "path = Path('data_normed.csv')\n",
    "if not path.is_file():\n",
    "    data = normalilized_data(data)\n",
    "    data.to_csv('data_normed.csv')\n",
    "else:\n",
    "    unnamed_cols = data.columns.values[data.columns.str.contains('Unnamed')]\n",
    "    data = pd.read_csv('data_normed.csv').drop(unnamed_cols, axis = 1)"
   ]
  },
  {
   "cell_type": "markdown",
   "metadata": {},
   "source": [
    "## Plotting signals of 2 different classes "
   ]
  },
  {
   "cell_type": "code",
   "execution_count": 6,
   "metadata": {},
   "outputs": [
    {
     "data": {
      "image/png": "[encoded data removed]",
      "text/plain": [
       "<Figure size 720x504 with 2 Axes>"
      ]
     },
     "metadata": {
      "needs_background": "light"
     },
     "output_type": "display_data"
    }
   ],
   "source": [
    "fig, axx = plt.subplots(2,1 , figsize = (10,7))\n",
    "'''pipe num 111_1'''\n",
    "plt.sca(axx[0])\n",
    "pipe_1 = data[data.id == '111_1'].iloc[:,2:]\n",
    "plt.plot(pipe_1.time, pipe_1.iloc[:,1:])\n",
    "plt.title('Pipe with outside deffect (OD)')\n",
    "''' pipe num 34_2'''\n",
    "plt.sca(axx[1])\n",
    "pipe_2 = data[data.id == '183_1'].iloc[:,2:]\n",
    "plt.plot(pipe_2.time, pipe_2.iloc[:,1:] - pipe_2.iloc[:,1:].mean(axis = 0).values )\n",
    "plt.title('Pipe with inside deffect (ID)')\n",
    "\n",
    "plt.tight_layout()"
   ]
  },
  {
   "cell_type": "markdown",
   "metadata": {},
   "source": [
    "## Building a CNN model"
   ]
  },
  {
   "cell_type": "code",
   "execution_count": 7,
   "metadata": {},
   "outputs": [],
   "source": [
    "import torch\n",
    "from torch.utils.data import Dataset, DataLoader\n",
    "import torch.nn.functional as F\n",
    "import torch.nn as nn\n",
    "from torch.optim import Adam, SGD\n",
    "from tqdm import trange"
   ]
  },
  {
   "cell_type": "code",
   "execution_count": 8,
   "metadata": {},
   "outputs": [],
   "source": [
    "import os\n",
    "def seed_everything(seed=10):\n",
    "    \"\"\"\"\n",
    "    Seed everything.\n",
    "    \"\"\"   \n",
    "    random.seed(seed)\n",
    "    os.environ['PYTHONHASHSEED'] = str(seed)\n",
    "    np.random.seed(seed)\n",
    "    torch.manual_seed(seed)\n",
    "    torch.cuda.manual_seed(seed)\n",
    "    torch.cuda.manual_seed_all(seed)\n",
    "    torch.backends.cudnn.deterministic = True\n",
    "    \n",
    "seed_everything()"
   ]
  },
  {
   "cell_type": "markdown",
   "metadata": {},
   "source": [
    "### Creating dataset class for nn training"
   ]
  },
  {
   "cell_type": "code",
   "execution_count": 9,
   "metadata": {},
   "outputs": [],
   "source": [
    "class PipeData(Dataset):\n",
    "    def __init__(self, data, train, ids):\n",
    "        self.ids = ids\n",
    "        self.train = train\n",
    "        self.channels_by_id = {}\n",
    "        for i in ids:\n",
    "            self.channels_by_id[i] = torch.FloatTensor(data[data.id == i]\\\n",
    "                                                  [['ch0','ch1' , 'ch2']].values)\n",
    "    def __len__(self):\n",
    "        return len(self.ids)\n",
    "    \n",
    "    def __getitem__(self, i):\n",
    "        self.id = self.ids[i]\n",
    "        return (self.channels_by_id[self.id ], \n",
    "                self.train[self.train.id == self.id ].target.item())"
   ]
  },
  {
   "cell_type": "markdown",
   "metadata": {},
   "source": [
    "### Spliting samples on train and validation sets"
   ]
  },
  {
   "cell_type": "code",
   "execution_count": 10,
   "metadata": {},
   "outputs": [
    {
     "data": {
      "text/plain": [
       "((70,), (30,))"
      ]
     },
     "execution_count": 10,
     "metadata": {},
     "output_type": "execute_result"
    }
   ],
   "source": [
    "X = train_enc.id.values\n",
    "y = train_enc.target.values\n",
    "train_ids, val_ids, _, _ = train_test_split(X, y, test_size=0.3, \n",
    "                                                   random_state=100)\n",
    "pd_train = PipeData(data, train_enc, train_ids)\n",
    "pd_val = PipeData(data, train_enc, val_ids)\n",
    "train_ids.shape, val_ids.shape"
   ]
  },
  {
   "cell_type": "markdown",
   "metadata": {},
   "source": [
    "### Making dataset iterable "
   ]
  },
  {
   "cell_type": "code",
   "execution_count": 11,
   "metadata": {},
   "outputs": [
    {
     "name": "stdout",
     "output_type": "stream",
     "text": [
      "torch.Size([1, 2400, 3]) tensor([1])\n"
     ]
    }
   ],
   "source": [
    "train_dloader = DataLoader(pd_train, batch_size = 1)\n",
    "val_dloader =  DataLoader(pd_val, batch_size = 1)\n",
    "for ch, lab in train_dloader:\n",
    "    break\n",
    "print(ch.shape , lab)"
   ]
  },
  {
   "cell_type": "markdown",
   "metadata": {},
   "source": [
    "### Creating model class"
   ]
  },
  {
   "cell_type": "code",
   "execution_count": 12,
   "metadata": {},
   "outputs": [],
   "source": [
    "class PipeDataConv(nn.Module):\n",
    "    def __init__(self, in_dim, out_dim):\n",
    "        super().__init__()\n",
    "        self.num_ch = 3\n",
    "        self.num_classes = 2\n",
    "        torch.manual_seed(4)\n",
    "        self.conv = nn.Conv2d(in_dim, out_dim, kernel_size = (1, self.num_ch) )\n",
    "        self.maxpool = nn.MaxPool2d(kernel_size = (2400,1))\n",
    "        self.fc = nn.Linear(out_dim,self.num_classes)\n",
    "    def forward(self, x):\n",
    "        out = self.conv(x)\n",
    "        out = F.relu(out)\n",
    "        out = self.maxpool(out)\n",
    "        out = out.view(-1, out.size(0))\n",
    "        return self.fc(out)\n",
    " "
   ]
  },
  {
   "cell_type": "code",
   "execution_count": 13,
   "metadata": {},
   "outputs": [],
   "source": [
    "n_epochs = 60\n",
    "seed_everything()\n",
    "model = PipeDataConv(1, 5)\n",
    "opt = SGD(model.parameters(), lr = 0.001)\n",
    "log_train = []\n",
    "log_val = []"
   ]
  },
  {
   "cell_type": "markdown",
   "metadata": {},
   "source": [
    "### Training a model"
   ]
  },
  {
   "cell_type": "code",
   "execution_count": 29,
   "metadata": {},
   "outputs": [
    {
     "name": "stderr",
     "output_type": "stream",
     "text": [
      "100%|██████████| 60/60 [00:03<00:00, 16.73it/s]\n"
     ]
    }
   ],
   "source": [
    "for e in trange(n_epochs, position = 0, leave = True):\n",
    "    for feat, label in train_dloader:\n",
    "        logits = model(feat)\n",
    "        train_loss = F.cross_entropy(logits, label)\n",
    "        opt.zero_grad()\n",
    "        train_loss.backward()\n",
    "        opt.step()\n",
    "    with torch.no_grad():\n",
    "        log_train.append(train_loss.item())\n",
    "\n",
    "    for feat, label in val_dloader:\n",
    "        logits = model(feat)\n",
    "        val_loss = F.cross_entropy(logits, label)\n",
    "    with torch.no_grad():\n",
    "        log_val.append(val_loss.item())"
   ]
  },
  {
   "cell_type": "code",
   "execution_count": 15,
   "metadata": {},
   "outputs": [],
   "source": [
    "# log_train, log_val"
   ]
  },
  {
   "cell_type": "code",
   "execution_count": 30,
   "metadata": {
    "scrolled": false
   },
   "outputs": [
    {
     "data": {
      "text/plain": [
       "<matplotlib.legend.Legend at 0x7fb0c4c39c90>"
      ]
     },
     "execution_count": 30,
     "metadata": {},
     "output_type": "execute_result"
    },
    {
     "data": {
      "image/png": "[encoded data removed]",
      "text/plain": [
       "<Figure size 432x288 with 1 Axes>"
      ]
     },
     "metadata": {
      "needs_background": "light"
     },
     "output_type": "display_data"
    }
   ],
   "source": [
    "plt.figure()\n",
    "plt.plot(np.array(log_train), label = 'train loss')\n",
    "plt.plot(np.array(log_val), label = 'validation loss')\n",
    "plt.legend()"
   ]
  },
  {
   "cell_type": "markdown",
   "metadata": {},
   "source": [
    "### Model evaluation"
   ]
  },
  {
   "cell_type": "code",
   "execution_count": 17,
   "metadata": {
    "scrolled": true
   },
   "outputs": [
    {
     "name": "stdout",
     "output_type": "stream",
     "text": [
      "Train set f1 score: 0.93 \n",
      " Validation set f1 score: 0.95\n"
     ]
    },
    {
     "name": "stderr",
     "output_type": "stream",
     "text": [
      "/opt/anaconda3/lib/python3.7/site-packages/ipykernel_launcher.py:11: UserWarning: Implicit dimension choice for softmax has been deprecated. Change the call to include dim=X as an argument.\n",
      "  # This is added back by InteractiveShellApp.init_path()\n"
     ]
    }
   ],
   "source": [
    "def f1_score_eval(model, dloader):\n",
    "    from sklearn.metrics import f1_score\n",
    "    y_pred = []\n",
    "    y_true = []\n",
    "    y_pred_proba = []\n",
    "    for feat, label in dloader:\n",
    "            logits = model(feat)\n",
    "            y_pred.append(torch.argmax(logits, 1).item())\n",
    "            y_true.append(label.item())\n",
    "            with torch.no_grad():\n",
    "                y_pred_proba.append(F.softmax(model(feat))[0].numpy())\n",
    "                \n",
    "    return np.array(y_pred_proba)[:,1], f1_score(y_true, y_pred).round(2)\n",
    "\n",
    "_, f1_train = f1_score_eval(model, train_dloader)\n",
    "y_pred_proba_nn, f1_val = f1_score_eval(model, val_dloader)\n",
    "print('Train set f1 score: %s \\n Validation set f1 score: %s'% (f1_train, f1_val))"
   ]
  },
  {
   "cell_type": "markdown",
   "metadata": {},
   "source": [
    "### Classification of unlabeled pipes "
   ]
  },
  {
   "cell_type": "markdown",
   "metadata": {},
   "source": [
    "`Now we can classify unlabeled pipes with learned model`"
   ]
  },
  {
   "cell_type": "code",
   "execution_count": 18,
   "metadata": {},
   "outputs": [
    {
     "name": "stdout",
     "output_type": "stream",
     "text": [
      "145 ['137_2', '9_2', '123_1', '175_2', '182_1', '78_2', '178_1', '157_1', '176_1', '106_2']\n"
     ]
    }
   ],
   "source": [
    "#finding the labels of samples for which we should predict labels\n",
    "ids = data.id.unique()\n",
    "lab_ids = train.id.to_list()\n",
    "unl_ids = list(set(ids).difference(set(lab_ids)))\n",
    "print(len(unl_ids), unl_ids[:10])"
   ]
  },
  {
   "cell_type": "code",
   "execution_count": 19,
   "metadata": {},
   "outputs": [],
   "source": [
    "def get_labels(unl_ids: list, pred_proba : torch.Tensor):\n",
    "    predictions = {}\n",
    "    for i, pipe_id in enumerate(unl_ids):\n",
    "        predictions[pipe_id] = defect_mapper[torch.argmax(pred_proba[pipe_id]).item()]\n",
    "    return predictions\n",
    "\n",
    "unl_channels = {}\n",
    "for i in unl_ids:\n",
    "    unl_channels[i] = torch.FloatTensor(data[data.id == i]\\\n",
    "                                      [['ch0','ch1' , 'ch2']].values)\n",
    "pred_proba = {} \n",
    "predictions = {}\n",
    "for i, channel in unl_channels.items():\n",
    "    with torch.no_grad():\n",
    "        pred_proba[i] = F.softmax(model(channel[None, :, :]), dim = 1)\n",
    "\n",
    "predictions = get_labels(unl_ids, pred_proba)"
   ]
  },
  {
   "cell_type": "markdown",
   "metadata": {},
   "source": [
    "### save predictions in file"
   ]
  },
  {
   "cell_type": "code",
   "execution_count": 20,
   "metadata": {
    "scrolled": false
   },
   "outputs": [
    {
     "data": {
      "text/html": [
       "<div>\n",
       "<style scoped>\n",
       "    .dataframe tbody tr th:only-of-type {\n",
       "        vertical-align: middle;\n",
       "    }\n",
       "\n",
       "    .dataframe tbody tr th {\n",
       "        vertical-align: top;\n",
       "    }\n",
       "\n",
       "    .dataframe thead th {\n",
       "        text-align: right;\n",
       "    }\n",
       "</style>\n",
       "<table border=\"1\" class=\"dataframe\">\n",
       "  <thead>\n",
       "    <tr style=\"text-align: right;\">\n",
       "      <th></th>\n",
       "      <th>id</th>\n",
       "      <th>target</th>\n",
       "    </tr>\n",
       "  </thead>\n",
       "  <tbody>\n",
       "    <tr>\n",
       "      <th>0</th>\n",
       "      <td>137_2</td>\n",
       "      <td>OD</td>\n",
       "    </tr>\n",
       "    <tr>\n",
       "      <th>1</th>\n",
       "      <td>9_2</td>\n",
       "      <td>OD</td>\n",
       "    </tr>\n",
       "    <tr>\n",
       "      <th>2</th>\n",
       "      <td>123_1</td>\n",
       "      <td>ID</td>\n",
       "    </tr>\n",
       "    <tr>\n",
       "      <th>3</th>\n",
       "      <td>175_2</td>\n",
       "      <td>ID</td>\n",
       "    </tr>\n",
       "    <tr>\n",
       "      <th>4</th>\n",
       "      <td>182_1</td>\n",
       "      <td>ID</td>\n",
       "    </tr>\n",
       "    <tr>\n",
       "      <th>...</th>\n",
       "      <td>...</td>\n",
       "      <td>...</td>\n",
       "    </tr>\n",
       "    <tr>\n",
       "      <th>140</th>\n",
       "      <td>82_1</td>\n",
       "      <td>ID</td>\n",
       "    </tr>\n",
       "    <tr>\n",
       "      <th>141</th>\n",
       "      <td>60_2</td>\n",
       "      <td>ID</td>\n",
       "    </tr>\n",
       "    <tr>\n",
       "      <th>142</th>\n",
       "      <td>81_2</td>\n",
       "      <td>OD</td>\n",
       "    </tr>\n",
       "    <tr>\n",
       "      <th>143</th>\n",
       "      <td>97_1</td>\n",
       "      <td>OD</td>\n",
       "    </tr>\n",
       "    <tr>\n",
       "      <th>144</th>\n",
       "      <td>77_1</td>\n",
       "      <td>OD</td>\n",
       "    </tr>\n",
       "  </tbody>\n",
       "</table>\n",
       "<p>145 rows × 2 columns</p>\n",
       "</div>"
      ],
      "text/plain": [
       "        id target\n",
       "0    137_2     OD\n",
       "1      9_2     OD\n",
       "2    123_1     ID\n",
       "3    175_2     ID\n",
       "4    182_1     ID\n",
       "..     ...    ...\n",
       "140   82_1     ID\n",
       "141   60_2     ID\n",
       "142   81_2     OD\n",
       "143   97_1     OD\n",
       "144   77_1     OD\n",
       "\n",
       "[145 rows x 2 columns]"
      ]
     },
     "execution_count": 20,
     "metadata": {},
     "output_type": "execute_result"
    }
   ],
   "source": [
    "pred_data = pd.DataFrame(list(predictions.items()), columns = ['id','target'])\n",
    "pred_data\n",
    "pred_data.to_csv('predictions.csv')\n",
    "pred_data"
   ]
  },
  {
   "cell_type": "markdown",
   "metadata": {},
   "source": [
    "## Gradient Boosting with PCA"
   ]
  },
  {
   "cell_type": "markdown",
   "metadata": {},
   "source": [
    "`Now lets try the Gradient boosting classifier with applied PCA to reduce channels dimensionality from 3 to 1`"
   ]
  },
  {
   "cell_type": "code",
   "execution_count": 21,
   "metadata": {},
   "outputs": [],
   "source": [
    "from sklearn.ensemble import GradientBoostingClassifier\n",
    "from sklearn.metrics import accuracy_score, f1_score, roc_curve, roc_auc_score\n",
    "from sklearn.model_selection import cross_validate\n",
    "from sklearn.decomposition import PCA "
   ]
  },
  {
   "cell_type": "code",
   "execution_count": 22,
   "metadata": {},
   "outputs": [],
   "source": [
    "gb = GradientBoostingClassifier(random_state = 0)"
   ]
  },
  {
   "cell_type": "code",
   "execution_count": 23,
   "metadata": {},
   "outputs": [],
   "source": [
    "# prepare dataset \n",
    "def Dataset(data, train, ids):\n",
    "    channels = []\n",
    "    labels = []\n",
    "    pca = PCA(n_components = 1)\n",
    "    new_channel = pca.fit_transform(data[['ch0','ch1' , 'ch2']])\n",
    "    data_new = data.drop(columns = ['ch0','ch1' , 'ch2'], axis = 1)\n",
    "    data_new['ch'] = new_channel\n",
    "    for i in ids:\n",
    "        labels.append(train[train.id == i].target.item())\n",
    "        channels.append(data_new[data_new.id == i].ch.values)\n",
    "    return np.array(channels), np.array(labels)\n",
    "\n",
    "X, y = Dataset(data, train_enc, train_enc.id.values)\n",
    "X_tr, y_tr = Dataset(data, train_enc, train_ids)\n",
    "X_val, y_val = Dataset(data, train_enc, val_ids)"
   ]
  },
  {
   "cell_type": "code",
   "execution_count": 24,
   "metadata": {},
   "outputs": [
    {
     "name": "stdout",
     "output_type": "stream",
     "text": [
      "F1 score of GB model on cross validation 0.8\n"
     ]
    }
   ],
   "source": [
    "f1_cv = cross_validate(gb, X, y, cv = 3,  scoring = 'f1')['test_score'].mean()\n",
    "print('F1 score of GB model on cross validation %s' % round(f1_cv,2))"
   ]
  },
  {
   "cell_type": "markdown",
   "metadata": {},
   "source": [
    "## ROC curve comparasion"
   ]
  },
  {
   "cell_type": "markdown",
   "metadata": {},
   "source": [
    "`Now lets compare to classificators - CNN and Gradient Boosting by ROC curve and ROC AUC score`"
   ]
  },
  {
   "cell_type": "code",
   "execution_count": 25,
   "metadata": {},
   "outputs": [
    {
     "name": "stdout",
     "output_type": "stream",
     "text": [
      "F1 score on validation set for CNN: 0.95 \n",
      " F1 score on cross-validation for GB: 0.8 \n"
     ]
    },
    {
     "data": {
      "image/png": "[encoded data removed]",
      "text/plain": [
       "<Figure size 720x432 with 1 Axes>"
      ]
     },
     "metadata": {
      "needs_background": "light"
     },
     "output_type": "display_data"
    }
   ],
   "source": [
    "gb.fit(X_tr, y_tr)\n",
    "y_pred_proba_gd = gb.predict_proba(X_val)[:,1]\n",
    "fpr_gd, tpr_gd, _ = roc_curve(y_val, y_pred_proba_gd)\n",
    "fpr_nn, tpr_nn,  _ = roc_curve(y_val, y_pred_proba_nn)\n",
    "plt.figure(figsize = (10,6))\n",
    "plt.plot(fpr_gd, tpr_gd, label = 'Gradient Boosting')\n",
    "plt.plot(fpr_nn, tpr_nn, label = 'CNN')\n",
    "plt.title('ROC curve with GD AUC  = %s, \\n CNN AUC = %s' % (round(roc_auc_score(y_val, y_pred_proba_gd),2),\n",
    "                                                            round(roc_auc_score(y_val, y_pred_proba_nn),2)\n",
    "                                                           )\n",
    "         )\n",
    "x = np.linspace(0,1,10)\n",
    "plt.plot(x, x, '--', lw = 2, label = 'random classifier')\n",
    "plt.legend()\n",
    "print('F1 score on validation set for CNN: %s \\n F1 score on cross-validation for GB: %s ' % (f1_val,\n",
    "                                                                                             round(f1_cv,2)))"
   ]
  }
 ],
 "metadata": {
  "kernelspec": {
   "display_name": "Python 3",
   "language": "python",
   "name": "python3"
  },
  "language_info": {
   "codemirror_mode": {
    "name": "ipython",
    "version": 3
   },
   "file_extension": ".py",
   "mimetype": "text/x-python",
   "name": "python",
   "nbconvert_exporter": "python",
   "pygments_lexer": "ipython3",
   "version": "3.7.4"
  },
  "toc": {
   "base_numbering": 1,
   "nav_menu": {},
   "number_sections": true,
   "sideBar": true,
   "skip_h1_title": false,
   "title_cell": "Table of Contents",
   "title_sidebar": "Contents",
   "toc_cell": false,
   "toc_position": {
    "height": "calc(100% - 180px)",
    "left": "10px",
    "top": "150px",
    "width": "360px"
   },
   "toc_section_display": true,
   "toc_window_display": false
  }
 },
 "nbformat": 4,
 "nbformat_minor": 2
}
